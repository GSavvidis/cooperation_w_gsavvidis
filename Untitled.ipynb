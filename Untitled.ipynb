{
 "cells": [
  {
   "cell_type": "code",
   "execution_count": 2,
   "metadata": {
    "collapsed": false
   },
   "outputs": [],
   "source": [
    "import sympy as sm"
   ]
  },
  {
   "cell_type": "code",
   "execution_count": 8,
   "metadata": {
    "collapsed": true
   },
   "outputs": [],
   "source": [
    "r,x2,x1,y2,y1 = sm.symbols('r x2 x1 y2 y1')"
   ]
  },
  {
   "cell_type": "code",
   "execution_count": 17,
   "metadata": {
    "collapsed": false
   },
   "outputs": [],
   "source": [
    "V = (1/r)**12-(1/r)**6"
   ]
  },
  {
   "cell_type": "code",
   "execution_count": 18,
   "metadata": {
    "collapsed": false
   },
   "outputs": [
    {
     "data": {
      "text/plain": [
       "-1/r**6 + r**(-12)"
      ]
     },
     "execution_count": 18,
     "metadata": {},
     "output_type": "execute_result"
    }
   ],
   "source": [
    "V"
   ]
  },
  {
   "cell_type": "code",
   "execution_count": 19,
   "metadata": {
    "collapsed": false
   },
   "outputs": [],
   "source": [
    "V = V.subs(r,((x1-x2)**2+(y1-y2)**2)**0.5)"
   ]
  },
  {
   "cell_type": "code",
   "execution_count": 20,
   "metadata": {
    "collapsed": false
   },
   "outputs": [
    {
     "data": {
      "text/plain": [
       "((x1 - x2)**2 + (y1 - y2)**2)**(-6.0) - ((x1 - x2)**2 + (y1 - y2)**2)**(-3.0)"
      ]
     },
     "execution_count": 20,
     "metadata": {},
     "output_type": "execute_result"
    }
   ],
   "source": [
    "V"
   ]
  },
  {
   "cell_type": "code",
   "execution_count": 23,
   "metadata": {
    "collapsed": false
   },
   "outputs": [],
   "source": [
    "Vton = V.diff(x1)\n",
    "sm.init_printing(True)\n"
   ]
  },
  {
   "cell_type": "code",
   "execution_count": 24,
   "metadata": {
    "collapsed": false
   },
   "outputs": [
    {
     "data": {
      "image/png": "[encoded data removed]",
      "text/latex": [
       "$$\\frac{- 12.0 x_{1} + 12.0 x_{2}}{\\left(\\left(x_{1} - x_{2}\\right)^{2} + \\left(y_{1} - y_{2}\\right)^{2}\\right)^{7.0}} - \\frac{- 6.0 x_{1} + 6.0 x_{2}}{\\left(\\left(x_{1} - x_{2}\\right)^{2} + \\left(y_{1} - y_{2}\\right)^{2}\\right)^{4.0}}$$"
      ],
      "text/plain": [
       "                                              -7.0                            \n",
       "                     ⎛         2            2⎞                          ⎛     \n",
       "(-12.0⋅x₁ + 12.0⋅x₂)⋅⎝(x₁ - x₂)  + (y₁ - y₂) ⎠     - (-6.0⋅x₁ + 6.0⋅x₂)⋅⎝(x₁ -\n",
       "\n",
       "                   -4.0\n",
       "    2            2⎞    \n",
       " x₂)  + (y₁ - y₂) ⎠    "
      ]
     },
     "execution_count": 24,
     "metadata": {},
     "output_type": "execute_result"
    }
   ],
   "source": [
    "Vton"
   ]
  },
  {
   "cell_type": "code",
   "execution_count": 25,
   "metadata": {
    "collapsed": true
   },
   "outputs": [],
   "source": [
    "Vton_x2 = V.diff(x2)"
   ]
  },
  {
   "cell_type": "code",
   "execution_count": 26,
   "metadata": {
    "collapsed": false
   },
   "outputs": [
    {
     "data": {
      "image/png": "[encoded data removed]",
      "text/latex": [
       "$$- \\frac{6.0 x_{1} - 6.0 x_{2}}{\\left(\\left(x_{1} - x_{2}\\right)^{2} + \\left(y_{1} - y_{2}\\right)^{2}\\right)^{4.0}} + \\frac{12.0 x_{1} - 12.0 x_{2}}{\\left(\\left(x_{1} - x_{2}\\right)^{2} + \\left(y_{1} - y_{2}\\right)^{2}\\right)^{7.0}}$$"
      ],
      "text/plain": [
       "                                             -4.0                             \n",
       "                    ⎛         2            2⎞                           ⎛     \n",
       "- (6.0⋅x₁ - 6.0⋅x₂)⋅⎝(x₁ - x₂)  + (y₁ - y₂) ⎠     + (12.0⋅x₁ - 12.0⋅x₂)⋅⎝(x₁ -\n",
       "\n",
       "                   -7.0\n",
       "    2            2⎞    \n",
       " x₂)  + (y₁ - y₂) ⎠    "
      ]
     },
     "execution_count": 26,
     "metadata": {},
     "output_type": "execute_result"
    }
   ],
   "source": [
    "Vton_x2"
   ]
  },
  {
   "cell_type": "code",
   "execution_count": 27,
   "metadata": {
    "collapsed": true
   },
   "outputs": [],
   "source": [
    "Vton_y2 = V.diff(x2)"
   ]
  },
  {
   "cell_type": "code",
   "execution_count": 28,
   "metadata": {
    "collapsed": false
   },
   "outputs": [
    {
     "data": {
      "image/png": "[encoded data removed]",
      "text/latex": [
       "$$- \\frac{6.0 x_{1} - 6.0 x_{2}}{\\left(\\left(x_{1} - x_{2}\\right)^{2} + \\left(y_{1} - y_{2}\\right)^{2}\\right)^{4.0}} + \\frac{12.0 x_{1} - 12.0 x_{2}}{\\left(\\left(x_{1} - x_{2}\\right)^{2} + \\left(y_{1} - y_{2}\\right)^{2}\\right)^{7.0}}$$"
      ],
      "text/plain": [
       "                                             -4.0                             \n",
       "                    ⎛         2            2⎞                           ⎛     \n",
       "- (6.0⋅x₁ - 6.0⋅x₂)⋅⎝(x₁ - x₂)  + (y₁ - y₂) ⎠     + (12.0⋅x₁ - 12.0⋅x₂)⋅⎝(x₁ -\n",
       "\n",
       "                   -7.0\n",
       "    2            2⎞    \n",
       " x₂)  + (y₁ - y₂) ⎠    "
      ]
     },
     "execution_count": 28,
     "metadata": {},
     "output_type": "execute_result"
    }
   ],
   "source": [
    "Vton_y2"
   ]
  },
  {
   "cell_type": "code",
   "execution_count": null,
   "metadata": {
    "collapsed": true
   },
   "outputs": [],
   "source": []
  }
 ],
 "metadata": {
  "anaconda-cloud": {},
  "kernelspec": {
   "display_name": "Python [conda root]",
   "language": "python",
   "name": "conda-root-py"
  },
  "language_info": {
   "codemirror_mode": {
    "name": "ipython",
    "version": 3
   },
   "file_extension": ".py",
   "mimetype": "text/x-python",
   "name": "python",
   "nbconvert_exporter": "python",
   "pygments_lexer": "ipython3",
   "version": "3.5.2"
  }
 },
 "nbformat": 4,
 "nbformat_minor": 1
}
