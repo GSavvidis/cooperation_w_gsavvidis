{
 "cells": [
  {
   "cell_type": "code",
   "execution_count": 2,
   "metadata": {
    "collapsed": false
   },
   "outputs": [],
   "source": [
    "import sympy as sm"
   ]
  },
  {
   "cell_type": "code",
   "execution_count": 8,
   "metadata": {
    "collapsed": true
   },
   "outputs": [],
   "source": [
    "r,x2,x1,y2,y1 = sm.symbols('r x2 x1 y2 y1')"
   ]
  },
  {
   "cell_type": "code",
   "execution_count": 17,
   "metadata": {
    "collapsed": false
   },
   "outputs": [],
   "source": [
    "V = (1/r)**12-(1/r)**6"
   ]
  },
  {
   "cell_type": "code",
   "execution_count": 18,
   "metadata": {
    "collapsed": false
   },
   "outputs": [
    {
     "data": {
      "text/plain": [
       "-1/r**6 + r**(-12)"
      ]
     },
     "execution_count": 18,
     "metadata": {},
     "output_type": "execute_result"
    }
   ],
   "source": [
    "V"
   ]
  },
  {
   "cell_type": "code",
   "execution_count": 19,
   "metadata": {
    "collapsed": false
   },
   "outputs": [],
   "source": [
    "V = V.subs(r,((x1-x2)**2+(y1-y2)**2)**0.5)"
   ]
  },
  {
   "cell_type": "code",
   "execution_count": 20,
   "metadata": {
    "collapsed": false
   },
   "outputs": [
    {
     "data": {
      "text/plain": [
       "((x1 - x2)**2 + (y1 - y2)**2)**(-6.0) - ((x1 - x2)**2 + (y1 - y2)**2)**(-3.0)"
      ]
     },
     "execution_count": 20,
     "metadata": {},
     "output_type": "execute_result"
    }
   ],
   "source": [
    "V"
   ]
  },
  {
   "cell_type": "code",
   "execution_count": 23,
   "metadata": {
    "collapsed": false
   },
   "outputs": [],
   "source": [
    "Vton = V.diff(x1)\n",
    "sm.init_printing(True)\n"
   ]
  },
  {
   "cell_type": "code",
   "execution_count": 24,
   "metadata": {
    "collapsed": false
   },
   "outputs": [
    {
     "data": {
      "image/png": "[encoded data removed]",
      "text/latex": [
       "$$\\frac{- 12.0 x_{1} + 12.0 x_{2}}{\\left(\\left(x_{1} - x_{2}\\right)^{2} + \\left(y_{1} - y_{2}\\right)^{2}\\right)^{7.0}} - \\frac{- 6.0 x_{1} + 6.0 x_{2}}{\\left(\\left(x_{1} - x_{2}\\right)^{2} + \\left(y_{1} - y_{2}\\right)^{2}\\right)^{4.0}}$$"
      ],
      "text/plain": [
       "                                              -7.0                            \n",
       "                     ⎛         2            2⎞                          ⎛     \n",
       "(-12.0⋅x₁ + 12.0⋅x₂)⋅⎝(x₁ - x₂)  + (y₁ - y₂) ⎠     - (-6.0⋅x₁ + 6.0⋅x₂)⋅⎝(x₁ -\n",
       "\n",
       "                   -4.0\n",
       "    2            2⎞    \n",
       " x₂)  + (y₁ - y₂) ⎠    "
      ]
     },
     "execution_count": 24,
     "metadata": {},
     "output_type": "execute_result"
    }
   ],
   "source": [
    "Vton"
   ]
  },
  {
   "cell_type": "code",
   "execution_count": 25,
   "metadata": {
    "collapsed": true
   },
   "outputs": [],
   "source": [
    "Vton_x2 = V.diff(x2)"
   ]
  },
  {
   "cell_type": "code",
   "execution_count": 26,
   "metadata": {
    "collapsed": false
   },
   "outputs": [
    {
     "data": {
      "image/png": "[encoded data removed]",
      "text/latex": [
       "$$- \\frac{6.0 x_{1} - 6.0 x_{2}}{\\left(\\left(x_{1} - x_{2}\\right)^{2} + \\left(y_{1} - y_{2}\\right)^{2}\\right)^{4.0}} + \\frac{12.0 x_{1} - 12.0 x_{2}}{\\left(\\left(x_{1} - x_{2}\\right)^{2} + \\left(y_{1} - y_{2}\\right)^{2}\\right)^{7.0}}$$"
      ],
      "text/plain": [
       "                                             -4.0                             \n",
       "                    ⎛         2            2⎞                           ⎛     \n",
       "- (6.0⋅x₁ - 6.0⋅x₂)⋅⎝(x₁ - x₂)  + (y₁ - y₂) ⎠     + (12.0⋅x₁ - 12.0⋅x₂)⋅⎝(x₁ -\n",
       "\n",
       "                   -7.0\n",
       "    2            2⎞    \n",
       " x₂)  + (y₁ - y₂) ⎠    "
      ]
     },
     "execution_count": 26,
     "metadata": {},
     "output_type": "execute_result"
    }
   ],
   "source": [
    "Vton_x2"
   ]
  },
  {
   "cell_type": "code",
   "execution_count": 29,
   "metadata": {
    "collapsed": true
   },
   "outputs": [],
   "source": [
    "Vton_y2 = V.diff(y2)"
   ]
  },
  {
   "cell_type": "code",
   "execution_count": 30,
   "metadata": {
    "collapsed": false
   },
   "outputs": [
    {
     "data": {
      "image/png": "[encoded data removed]",
      "text/latex": [
       "$$- \\frac{6.0 y_{1} - 6.0 y_{2}}{\\left(\\left(x_{1} - x_{2}\\right)^{2} + \\left(y_{1} - y_{2}\\right)^{2}\\right)^{4.0}} + \\frac{12.0 y_{1} - 12.0 y_{2}}{\\left(\\left(x_{1} - x_{2}\\right)^{2} + \\left(y_{1} - y_{2}\\right)^{2}\\right)^{7.0}}$$"
      ],
      "text/plain": [
       "                                             -4.0                             \n",
       "                    ⎛         2            2⎞                           ⎛     \n",
       "- (6.0⋅y₁ - 6.0⋅y₂)⋅⎝(x₁ - x₂)  + (y₁ - y₂) ⎠     + (12.0⋅y₁ - 12.0⋅y₂)⋅⎝(x₁ -\n",
       "\n",
       "                   -7.0\n",
       "    2            2⎞    \n",
       " x₂)  + (y₁ - y₂) ⎠    "
      ]
     },
     "execution_count": 30,
     "metadata": {},
     "output_type": "execute_result"
    }
   ],
   "source": [
    "Vton_y2"
   ]
  },
  {
   "cell_type": "code",
   "execution_count": 31,
   "metadata": {
    "collapsed": true
   },
   "outputs": [],
   "source": [
    "import numpy as np\n",
    "import matplotlib.pyplot as plt"
   ]
  },
  {
   "cell_type": "code",
   "execution_count": 32,
   "metadata": {
    "collapsed": true
   },
   "outputs": [],
   "source": [
    "x_1 = [4,\n",
    "4.20563,\n",
    "4.22219,\n",
    "4.23744,\n",
    "4.25105,\n",
    "4.2636,\n",
    "4.27497,\n",
    "4.28571,\n",
    "4.29581,\n",
    "4.30532,\n",
    "4.31414,\n",
    "4.32007,\n",
    "4.32068,\n",
    "4.32129,\n",
    "4.32189,\n",
    "4.32244,\n",
    "4.32287,\n",
    "4.3233,\n",
    "4.32372,\n",
    "4.32416,\n",
    "4.32459,\n",
    "4.32503,\n",
    "4.32547,\n",
    "4.32579,\n",
    "4.32587,\n",
    "4.32595,\n",
    "4.32603,\n",
    "4.32611,\n",
    "4.32619,\n",
    "4.32628,\n",
    "4.32636,\n",
    "4.32644,\n",
    "4.32652,\n",
    "4.32659,\n",
    "4.32661,\n",
    "4.32662,\n",
    "4.32664,\n",
    "4.32666,\n",
    "4.32668,\n",
    "4.3267,\n",
    "4.32672,\n",
    "4.32674,\n",
    "4.32676,\n",
    "4.32678,\n",
    "4.3268,\n",
    "4.32682,\n",
    "4.32683,\n",
    "4.32685,\n",
    "4.32687,\n",
    "4.32689,\n",
    "4.32691]\n"
   ]
  },
  {
   "cell_type": "code",
   "execution_count": 40,
   "metadata": {
    "collapsed": false
   },
   "outputs": [],
   "source": [
    "t = np.arange(0.,10.2,0.2)"
   ]
  },
  {
   "cell_type": "code",
   "execution_count": 42,
   "metadata": {
    "collapsed": false
   },
   "outputs": [
    {
     "data": {
      "image/png": "[encoded data removed]",
      "text/plain": [
       "<matplotlib.figure.Figure at 0x7efdae1dfe10>"
      ]
     },
     "metadata": {},
     "output_type": "display_data"
    }
   ],
   "source": [
    "plt.plot(t,x_1)\n",
    "plt.savefig('')\n",
    "plt.show()"
   ]
  },
  {
   "cell_type": "code",
   "execution_count": null,
   "metadata": {
    "collapsed": true
   },
   "outputs": [],
   "source": []
  }
 ],
 "metadata": {
  "anaconda-cloud": {},
  "kernelspec": {
   "display_name": "Python [conda root]",
   "language": "python",
   "name": "conda-root-py"
  },
  "language_info": {
   "codemirror_mode": {
    "name": "ipython",
    "version": 3
   },
   "file_extension": ".py",
   "mimetype": "text/x-python",
   "name": "python",
   "nbconvert_exporter": "python",
   "pygments_lexer": "ipython3",
   "version": "3.5.2"
  }
 },
 "nbformat": 4,
 "nbformat_minor": 1
}
